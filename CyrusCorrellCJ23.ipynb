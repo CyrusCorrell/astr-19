{
 "cells": [
  {
   "cell_type": "code",
   "execution_count": null,
   "id": "c6f8adfa-2541-45d8-a5b1-0e086ec9abb7",
   "metadata": {},
   "outputs": [],
   "source": [
    "import matplotlib.pyplot as plt\n",
    "import numpy as np"
   ]
  },
  {
   "cell_type": "code",
   "execution_count": null,
   "id": "3c9e85eb-10d3-4d3b-9f6b-67c3dd394ce9",
   "metadata": {},
   "outputs": [],
   "source": [
    "n=100\n",
    "x = np.zeros(n,dtype='float')\n",
    "for i in range(n):\n",
    "    x[i] = np.random.random() \n",
    "width = 0.5\n",
    "hmin = np.floor(np.min(x))\n",
    "hmax = np.ceil(np.max(x))\n",
    "bins = np.arange(hmin,hmax,width)\n",
    "\n",
    "plt.hist(x, bins=100, edgecolor='green')\n",
    "plt.xlabel('ASTR 19 IS AWESOME')\n",
    "plt.ylabel('Hi')\n",
    "plt.savefig(\"CyrusCorrellCJ23.pdf\",bbox_inches='tight',dpi=600)"
   ]
  }
 ],
 "metadata": {
  "kernelspec": {
   "display_name": "Python 3 (ipykernel)",
   "language": "python",
   "name": "python3"
  },
  "language_info": {
   "codemirror_mode": {
    "name": "ipython",
    "version": 3
   },
   "file_extension": ".py",
   "mimetype": "text/x-python",
   "name": "python",
   "nbconvert_exporter": "python",
   "pygments_lexer": "ipython3",
   "version": "3.11.5"
  }
 },
 "nbformat": 4,
 "nbformat_minor": 5
}
