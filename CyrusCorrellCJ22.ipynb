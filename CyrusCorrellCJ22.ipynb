{
 "cells": [
  {
   "cell_type": "code",
   "execution_count": null,
   "id": "f910ce7b-aaa2-4c77-928c-74cfcd878381",
   "metadata": {},
   "outputs": [],
   "source": [
    "import numpy as np \n",
    "import matplotlib.pyplot as plt"
   ]
  },
  {
   "cell_type": "code",
   "execution_count": null,
   "id": "5f4ca73c-3ec1-41b6-a475-053bdaf18422",
   "metadata": {},
   "outputs": [],
   "source": [
    "x = np.linspace(0,1,100)\n",
    "cosx=np.cos(x)\n",
    "sinx=np.sin(x)\n",
    "\n",
    "f, many = plt.subplots(1,2)\n",
    "\n",
    "many[0].plot(x,cosx)\n",
    "many[0].set_xlabel('SinX')\n",
    "many[0].set_ylabel('Y')\n",
    "\n",
    "many[1].plot(x,sinx)\n",
    "many[1].set_xlabel('CosY')\n",
    "many[1].set_ylabel('Y')\n",
    "\n",
    "f.subplots_adjust(wspace=0.4)\n",
    "\n",
    "f.savefig(\"CyrusCorrellCJ22.pdf\",bbox_inches='tight', dpi = 600)"
   ]
  }
 ],
 "metadata": {
  "kernelspec": {
   "display_name": "Python 3 (ipykernel)",
   "language": "python",
   "name": "python3"
  },
  "language_info": {
   "codemirror_mode": {
    "name": "ipython",
    "version": 3
   },
   "file_extension": ".py",
   "mimetype": "text/x-python",
   "name": "python",
   "nbconvert_exporter": "python",
   "pygments_lexer": "ipython3",
   "version": "3.11.5"
  }
 },
 "nbformat": 4,
 "nbformat_minor": 5
}
