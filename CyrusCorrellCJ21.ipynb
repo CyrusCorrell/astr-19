{
 "cells": [
  {
   "cell_type": "code",
   "execution_count": null,
   "id": "a8619499-8a25-4a2b-91a4-f65be7200667",
   "metadata": {},
   "outputs": [],
   "source": [
    "import numpy as np\n",
    "import matplotlib.pyplot as plt"
   ]
  },
  {
   "cell_type": "code",
   "execution_count": null,
   "id": "a014f63a-1604-4944-b189-0080cdb3a4c0",
   "metadata": {},
   "outputs": [],
   "source": [
    "x = np.linspace(0,1,100)\n",
    "y = np.exp(x)\n",
    "\n",
    "plt.plot(x,y)\n",
    "plt.xlabel(\"Time [ms]\")\n",
    "plt.ylabel('Awesomeness')\n",
    "plt.savefig('CyrusCorrellCJ21.pdf',bbox_inches='tight',dpi=600)"
   ]
  }
 ],
 "metadata": {
  "kernelspec": {
   "display_name": "Python 3 (ipykernel)",
   "language": "python",
   "name": "python3"
  },
  "language_info": {
   "codemirror_mode": {
    "name": "ipython",
    "version": 3
   },
   "file_extension": ".py",
   "mimetype": "text/x-python",
   "name": "python",
   "nbconvert_exporter": "python",
   "pygments_lexer": "ipython3",
   "version": "3.11.5"
  }
 },
 "nbformat": 4,
 "nbformat_minor": 5
}
