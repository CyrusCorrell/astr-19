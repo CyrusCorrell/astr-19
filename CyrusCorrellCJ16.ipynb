{
 "cells": [
  {
   "cell_type": "code",
   "execution_count": null,
   "id": "4bc2943f-e61a-4aba-9516-247ee0b2791d",
   "metadata": {},
   "outputs": [],
   "source": [
    "import numpy as np\n",
    "import matplotlib.pyplot as plt\n",
    "#import necessary libraries"
   ]
  },
  {
   "cell_type": "code",
   "execution_count": null,
   "id": "7a13c8ab-d9b6-46b4-a8b5-a13f342d41a2",
   "metadata": {},
   "outputs": [],
   "source": [
    "x = np.linspace(0,2*np.pi,1000)\n",
    "sinx = np.sin(x)\n",
    "cosx = np.cos(x)\n",
    "#create axis and sin(x) and cos(x)"
   ]
  },
  {
   "cell_type": "code",
   "execution_count": null,
   "id": "91a159c0-4c33-407a-b421-ac1c980c463a",
   "metadata": {},
   "outputs": [],
   "source": [
    "plt.plot(x,sinx, color = \"red\")\n",
    "plt.plot(x,cosx, color = \"green\")\n",
    "#plot sin and cos"
   ]
  },
  {
   "cell_type": "code",
   "execution_count": null,
   "id": "6cc36d77-5a55-42be-875a-5da7007e9033",
   "metadata": {},
   "outputs": [],
   "source": [
    "#output first ten values\n",
    "print(\"X      |     Sin(x)     |     Cos(X)\")\n",
    "for i in range(0,10):\n",
    "    print(f'{x[i]:.4f} |\\t {sinx[i]:.4f} |\\t {cosx[i]:.4f}')"
   ]
  }
 ],
 "metadata": {
  "kernelspec": {
   "display_name": "Python 3 (ipykernel)",
   "language": "python",
   "name": "python3"
  },
  "language_info": {
   "codemirror_mode": {
    "name": "ipython",
    "version": 3
   },
   "file_extension": ".py",
   "mimetype": "text/x-python",
   "name": "python",
   "nbconvert_exporter": "python",
   "pygments_lexer": "ipython3",
   "version": "3.11.5"
  }
 },
 "nbformat": 4,
 "nbformat_minor": 5
}
